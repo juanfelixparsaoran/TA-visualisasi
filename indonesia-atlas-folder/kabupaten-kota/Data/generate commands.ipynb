{
 "cells": [
  {
   "cell_type": "code",
   "execution_count": 1,
   "metadata": {},
   "outputs": [],
   "source": [
    "import pandas as pd\n",
    "import os"
   ]
  },
  {
   "cell_type": "code",
   "execution_count": 2,
   "metadata": {},
   "outputs": [],
   "source": [
    "df = pd.read_json('./ind-kabkot-rev.json')"
   ]
  },
  {
   "cell_type": "code",
   "execution_count": 3,
   "metadata": {},
   "outputs": [],
   "source": [
    "provinsi = df.groupby(['provinsi']).size().reset_index().provinsi.tolist()"
   ]
  },
  {
   "cell_type": "code",
   "execution_count": 4,
   "metadata": {},
   "outputs": [
    {
     "data": {
      "text/plain": [
       "['Aceh',\n",
       " 'Bali',\n",
       " 'Banten',\n",
       " 'Bengkulu',\n",
       " 'Gorontalo',\n",
       " 'Jakarta',\n",
       " 'Jambi',\n",
       " 'Jawa Barat',\n",
       " 'Jawa Tengah',\n",
       " 'Jawa Timur',\n",
       " 'Kalimantan Barat',\n",
       " 'Kalimantan Selatan',\n",
       " 'Kalimantan Tengah',\n",
       " 'Kalimantan Timur',\n",
       " 'Kalimantan Utara',\n",
       " 'Kepulauan Bangka Belitung',\n",
       " 'Kepulauan Riau',\n",
       " 'Lampung',\n",
       " 'Maluku',\n",
       " 'Maluku Utara',\n",
       " 'Nusa Tenggara Barat',\n",
       " 'Nusa Tenggara Timur',\n",
       " 'Papua',\n",
       " 'Papua Barat',\n",
       " 'Riau',\n",
       " 'Sulawesi Barat',\n",
       " 'Sulawesi Selatan',\n",
       " 'Sulawesi Tengah',\n",
       " 'Sulawesi Tenggara',\n",
       " 'Sulawesi Utara',\n",
       " 'Sumatera Barat',\n",
       " 'Sumatera Selatan',\n",
       " 'Sumatera Utara',\n",
       " 'Yogyakarta']"
      ]
     },
     "execution_count": 4,
     "metadata": {},
     "output_type": "execute_result"
    }
   ],
   "source": [
    "provinsi"
   ]
  },
  {
   "cell_type": "code",
   "execution_count": 5,
   "metadata": {},
   "outputs": [],
   "source": [
    "# make folder"
   ]
  },
  {
   "cell_type": "code",
   "execution_count": 5,
   "metadata": {},
   "outputs": [],
   "source": [
    "def createFolder(directory):\n",
    "    try:\n",
    "        if not os.path.exists(directory):\n",
    "            os.makedirs(directory)\n",
    "    except OSError:\n",
    "        print ('Error: Creating directory. ' +  directory)"
   ]
  },
  {
   "cell_type": "code",
   "execution_count": 6,
   "metadata": {},
   "outputs": [],
   "source": [
    "for f in provinsi:\n",
    "    folder_name = '../'+ f\n",
    "    createFolder(folder_name)"
   ]
  },
  {
   "cell_type": "code",
   "execution_count": 8,
   "metadata": {},
   "outputs": [],
   "source": [
    "# writing makefile"
   ]
  },
  {
   "cell_type": "code",
   "execution_count": 7,
   "metadata": {},
   "outputs": [],
   "source": [
    "makefile_text = \"\"\"map: filter-map-by-province build-geo build-topo simplify-topo collect-bahasa-map clean\n",
    ".PHONY: clean\n",
    "\n",
    "filter-map-by-province:\n",
    "\\tndjson-filter 'd.properties.provinsi === \"{prov}\"' < ../data/ind-map.ndjson > {filename}.ndjson\n",
    "\n",
    "build-geo:\n",
    "\\tndjson-reduce 'p.features.push(d), p' '{{type: \"FeatureCollection\", features: []}}' < {filename}.ndjson > {filename}.json\n",
    "\n",
    "build-topo:\n",
    "\\ttopojson {filename}.json > {filename}-topo.json -p\n",
    "\n",
    "simplify-topo:\n",
    "\\tmapshaper {filename}-topo.json -simplify 3% -o format=topojson {filename}-simplified-topo.json\n",
    "\n",
    "collect-bahasa-map:\n",
    "\\tcp {filename}-simplified-topo.json ../All\n",
    "\n",
    "clean:\n",
    "\\trm -rf {filename}.ndjson {filename}.json {filename}-topo.json\n",
    "\"\"\""
   ]
  },
  {
   "cell_type": "code",
   "execution_count": 8,
   "metadata": {},
   "outputs": [],
   "source": [
    "for p in provinsi:\n",
    "    fileloc = '../'+ p + '/Makefile'\n",
    "    filename = p.lower().replace(' ', '-')\n",
    "    \n",
    "    makefile = makefile_text.format(prov=p, filename=filename)\n",
    "    #print(makefile)\n",
    "    with open(fileloc, 'w') as outfile:\n",
    "        outfile.write(makefile)"
   ]
  },
  {
   "cell_type": "code",
   "execution_count": 19,
   "metadata": {},
   "outputs": [],
   "source": [
    "## Create readme table\n",
    "\n",
    "readme_template = \"\"\"\n",
    "| Provinsi | Maps |\n",
    "| -------- | ---- |\n",
    "\"\"\"\n",
    "\n",
    "for p in provinsi:\n",
    "    filename = p.lower().replace(' ', '-')\n",
    "    folder = p.replace(' ', '&#32');\n",
    "    \n",
    "    readme_template += \"\"\"\\n| {title} | [File](kabupaten-kota/{folder}/{filename}-simplified-topo.json) |\"\"\".format(title=p, folder=folder, filename=filename)\n",
    "    \n",
    "with open('readme.md', 'w') as outfile:\n",
    "    outfile.write(readme_template)"
   ]
  },
  {
   "cell_type": "code",
   "execution_count": null,
   "metadata": {},
   "outputs": [],
   "source": []
  }
 ],
 "metadata": {
  "kernelspec": {
   "display_name": "Python 3",
   "language": "python",
   "name": "python3"
  },
  "language_info": {
   "codemirror_mode": {
    "name": "ipython",
    "version": 3
   },
   "file_extension": ".py",
   "mimetype": "text/x-python",
   "name": "python",
   "nbconvert_exporter": "python",
   "pygments_lexer": "ipython3",
   "version": "3.7.0"
  }
 },
 "nbformat": 4,
 "nbformat_minor": 2
}
