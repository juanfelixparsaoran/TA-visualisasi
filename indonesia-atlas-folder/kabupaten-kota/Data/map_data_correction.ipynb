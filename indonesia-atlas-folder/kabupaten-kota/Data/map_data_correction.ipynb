{
 "cells": [
  {
   "cell_type": "code",
   "execution_count": 1,
   "metadata": {},
   "outputs": [],
   "source": [
    "import pandas as pd"
   ]
  },
  {
   "cell_type": "code",
   "execution_count": 2,
   "metadata": {},
   "outputs": [],
   "source": [
    "map_df = pd.read_json('ind-kabkot.json')"
   ]
  },
  {
   "cell_type": "code",
   "execution_count": 3,
   "metadata": {},
   "outputs": [],
   "source": [
    "def formatter(text):\n",
    "    return text.title()"
   ]
  },
  {
   "cell_type": "code",
   "execution_count": 4,
   "metadata": {},
   "outputs": [],
   "source": [
    "map_df.kabkot = map_df.kabkot.apply(formatter)\n",
    "map_df.provinsi = map_df.provinsi.apply(formatter)"
   ]
  },
  {
   "cell_type": "code",
   "execution_count": 9,
   "metadata": {},
   "outputs": [],
   "source": [
    "# kabupaten\n",
    "map_df.loc[map_df.kabkot.str.contains('S I A K'), 'kabkot'] = 'Siak'\n",
    "map_df.loc[map_df.kabkot.str.contains('D U M A I'), 'kabkot'] = 'Dumai'\n",
    "map_df.loc[map_df.kabkot.str.contains('B A T A M'), 'kabkot'] = 'Batam'\n",
    "map_df.loc[map_df.kabkot.str.contains('Pontianak'), 'kabkot'] = 'Mempawah'\n",
    "map_df.loc[map_df.kabkot.str.contains('Pangkal Pinang'), 'kabkot'] = 'Pangkalpinang'\n",
    "map_df.loc[map_df.kabkot.str.contains('Toli-Toli'), 'kabkot'] = 'Tolitoli'\n",
    "map_df.loc[map_df.kabkot.str.contains('Tulangbawang'), 'kabkot'] = 'Tulang Bawang'\n",
    "map_df.loc[map_df.kabkot.str.contains('Timor Tenggah Selatan'), 'kabkot'] = 'Timor Tengah Selatan'\n",
    "\n",
    "# provinsi\n",
    "map_df.loc[map_df.provinsi.str.contains('Dki Jakarta'), 'provinsi'] = 'Jakarta'\n",
    "map_df.loc[map_df.provinsi.str.contains('Daerah Istimewa Yogyakarta'), 'provinsi'] = 'Yogyakarta'\n",
    "map_df.loc[map_df.provinsi.str.contains('Dki Jakarta'), 'provinsi'] = 'Jakarta'\n",
    "map_df.loc[map_df.provinsi.str.contains('Nanggroe Aceh Darussalam'), 'provinsi'] = 'Aceh'\n"
   ]
  },
  {
   "cell_type": "code",
   "execution_count": 10,
   "metadata": {},
   "outputs": [],
   "source": [
    "with open('ind-kabkot-rev.json', 'w', encoding='utf-8') as outfile:\n",
    "    outfile.write(map_df.to_json(orient='records'))"
   ]
  },
  {
   "cell_type": "code",
   "execution_count": null,
   "metadata": {},
   "outputs": [],
   "source": []
  }
 ],
 "metadata": {
  "kernelspec": {
   "display_name": "Python 3",
   "language": "python",
   "name": "python3"
  },
  "language_info": {
   "codemirror_mode": {
    "name": "ipython",
    "version": 3
   },
   "file_extension": ".py",
   "mimetype": "text/x-python",
   "name": "python",
   "nbconvert_exporter": "python",
   "pygments_lexer": "ipython3",
   "version": "3.7.0"
  }
 },
 "nbformat": 4,
 "nbformat_minor": 2
}
